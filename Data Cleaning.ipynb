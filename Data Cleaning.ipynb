{
 "cells": [
  {
   "cell_type": "code",
   "execution_count": 1,
   "metadata": {},
   "outputs": [],
   "source": [
    "import matplotlib.pyplot as plt\n",
    "import warnings\n",
    "warnings.filterwarnings('ignore')\n",
    "%matplotlib inline\n",
    "import pydicom as dicom\n",
    "import os\n",
    "import pandas as pd\n",
    "import numpy as np\n",
    "import shutil\n",
    "import re\n",
    "import cv2\n",
    "from glob import glob\n",
    "from skimage.io import imread\n",
    "import nibabel as nib"
   ]
  },
  {
   "cell_type": "code",
   "execution_count": 2,
   "metadata": {},
   "outputs": [],
   "source": [
    "# import os\n",
    "# os.environ[\"CUDA_DEVICE_ORDER\"]=\"PCI_BUS_ID\"\n",
    "# os.environ[\"CUDA_VISIBLE_DEVICES\"]=\"0\""
   ]
  },
  {
   "cell_type": "code",
   "execution_count": 3,
   "metadata": {},
   "outputs": [],
   "source": [
    "data_dir =  'C:\\\\Users\\\\great\\\\Desktop\\\\Python\\\\ADC_data\\\\ADC_data\\\\'\n",
    "patients = os.listdir(data_dir)\n",
    "labels_df = pd.read_csv(r'C:\\Users\\great\\Desktop\\Python\\Python\\PROSTATEx_masks-master\\Files\\lesions\\PROSTATEx_Classes.csv')"
   ]
  },
  {
   "cell_type": "code",
   "execution_count": 4,
   "metadata": {},
   "outputs": [
    {
     "name": "stdout",
     "output_type": "stream",
     "text": [
      "C:\\Users\\great\\Desktop\\Python\\Python\\PROSTATEx_masks-master\\Files\\lesions\\Masks\\ADC\\ProstateX-0000-Finding1-ep2d_diff_tra_DYNDIST_ADC_ROI.nii.gz\n"
     ]
    }
   ],
   "source": [
    "BASE_Path = r'C:\\Users\\great\\Desktop\\Python\\Python\\PROSTATEx_masks-master\\Files\\lesions\\Masks'\n",
    "all_images = glob(os.path.join(BASE_Path,'ADC','ProstateX*'))\n",
    "print(all_images[0])"
   ]
  },
  {
   "cell_type": "code",
   "execution_count": 5,
   "metadata": {},
   "outputs": [
    {
     "name": "stdout",
     "output_type": "stream",
     "text": [
      "(84, 128, 19)\n",
      "ProstateX-0000\n"
     ]
    }
   ],
   "source": [
    "img=nib.load(all_images[0])\n",
    "img_data = img.get_fdata()\n",
    "print(img_data.shape)\n",
    "patients_1 = [all_images[i][84:98] for i in range(len(all_images))]\n",
    "labels = labels_df['ID'].tolist()\n",
    "print(patients_1[0])"
   ]
  },
  {
   "cell_type": "code",
   "execution_count": 6,
   "metadata": {},
   "outputs": [],
   "source": [
    "no_slices = []\n",
    "re_sized = []\n",
    "check_label = []\n",
    "check_patient = []\n",
    "masks = []\n",
    "for num, patient in enumerate (patients_1[:]):\n",
    "    label = int(labels_df['Clinically Significant'].loc[labels_df['ID'] == labels[num]])\n",
    "    path = data_dir + patient\n",
    "    slices = [dicom.read_file(path + '/' + s) for s in os.listdir(path)]\n",
    "    slices.sort(key = lambda x: int(x.ImagePositionPatient[2]))\n",
    "#     print (len(slices), slices[0].pixel_array.shape)\n",
    "    img=nib.load(all_images[num])\n",
    "    \n",
    "    img_data = img.get_fdata()\n",
    "    for i in range(img_data.shape[2]):\n",
    "        if np.any(img_data[:,:,i]) == True:\n",
    "#             print(img_data.shape[2])\n",
    "#             print(patient, i)\n",
    "            new_image = cv2.resize(np.array(slices[i].pixel_array),(128,128))\n",
    "            re_sized.append(new_image)\n",
    "            check_label.append(label)\n",
    "            check_patient.append(patient)\n",
    "            masks.append(1)\n",
    "        elif len(slices)>i:\n",
    "#             print(all_images[num])\n",
    "#             print('\\n', path)\n",
    "            masks.append(0)\n",
    "            new_image = cv2.resize(np.array(slices[i].pixel_array),(128,128))\n",
    "            re_sized.append(new_image)\n",
    "            check_label.append(label)\n",
    "            check_patient.append(patient)"
   ]
  },
  {
   "cell_type": "code",
   "execution_count": 7,
   "metadata": {},
   "outputs": [],
   "source": [
    "# for i in range(len(check_patient)):\n",
    "#     print('Image array: ',re_sized[i].shape,'\\t', 'Significance',check_label[i],'\\t', 'Patient ID:', check_patient[i])"
   ]
  },
  {
   "cell_type": "code",
   "execution_count": null,
   "metadata": {},
   "outputs": [],
   "source": []
  },
  {
   "cell_type": "code",
   "execution_count": 8,
   "metadata": {},
   "outputs": [
    {
     "name": "stdout",
     "output_type": "stream",
     "text": [
      "(5822, 128, 128)\n",
      "(5822,)\n"
     ]
    }
   ],
   "source": [
    "re_sized1 = np.asarray(re_sized)\n",
    "check_label = np.asarray(check_label)\n",
    "masks = np.asarray(masks)\n",
    "print((re_sized1.shape))\n",
    "print(masks.shape)"
   ]
  },
  {
   "cell_type": "code",
   "execution_count": 9,
   "metadata": {
    "collapsed": true
   },
   "outputs": [
    {
     "data": {
      "text/plain": [
       "<matplotlib.image.AxesImage at 0x23b0aa6e710>"
      ]
     },
     "execution_count": 9,
     "metadata": {},
     "output_type": "execute_result"
    },
    {
     "data": {
      "image/png": "[encoded data removed]",
      "text/plain": [
       "<Figure size 864x864 with 1 Axes>"
      ]
     },
     "metadata": {
      "needs_background": "light"
     },
     "output_type": "display_data"
    }
   ],
   "source": [
    "image1 = re_sized1[1]\n",
    "# image2= re_sized[1667]\n",
    "plt.figure(figsize=(12,12))\n",
    "plt.subplot(221)\n",
    "plt.imshow(image1[:,:], cmap = 'gray')\n",
    "# plt.subplot(222)\n",
    "# plt.imshow(image2[:,:], cmap = 'gray')\n",
    "# plt.savefig('ADC images before normalization')"
   ]
  },
  {
   "cell_type": "code",
   "execution_count": 10,
   "metadata": {},
   "outputs": [],
   "source": [
    "notumor = []\n",
    "tumor = []\n",
    "masks_na = []\n",
    "masks_a = []\n",
    "for i in range(re_sized1.shape[0]):\n",
    "    if masks[i] == 0:\n",
    "        notumor.append(re_sized[i])\n",
    "        masks_na.append(masks[i])\n",
    "    elif masks[i] == 1:\n",
    "        tumor.append(re_sized[i])\n",
    "        masks_a.append(masks[i])"
   ]
  },
  {
   "cell_type": "code",
   "execution_count": 11,
   "metadata": {},
   "outputs": [],
   "source": [
    "# print(len(m),len(masks_na))"
   ]
  },
  {
   "cell_type": "code",
   "execution_count": 12,
   "metadata": {},
   "outputs": [
    {
     "name": "stdout",
     "output_type": "stream",
     "text": [
      "4537 1285\n",
      "<class 'numpy.ndarray'> <class 'numpy.ndarray'>\n"
     ]
    }
   ],
   "source": [
    "print(len(notumor),len(tumor))\n",
    "notumor = np.asarray(notumor)\n",
    "tumor = np.asarray(tumor)\n",
    "masks_na = np.asarray(masks_na)\n",
    "masks_a = np.asarray(masks_a)\n",
    "\n",
    "print(type(notumor),type(tumor))"
   ]
  },
  {
   "cell_type": "code",
   "execution_count": 13,
   "metadata": {},
   "outputs": [
    {
     "name": "stdout",
     "output_type": "stream",
     "text": [
      "(3630, 128, 128)\n"
     ]
    }
   ],
   "source": [
    "np.random.shuffle(notumor)\n",
    "train = notumor[:3630]\n",
    "# masks_t = masks_na[:3637]\n",
    "masks_t = masks_na[:3630]\n",
    "print(train.shape)\n",
    "# masks_t.shape"
   ]
  },
  {
   "cell_type": "code",
   "execution_count": 14,
   "metadata": {},
   "outputs": [
    {
     "name": "stdout",
     "output_type": "stream",
     "text": [
      "(907, 128, 128)\n"
     ]
    }
   ],
   "source": [
    "train_half = notumor[3630:4537]\n",
    "print(train_half.shape)\n",
    "masks_th = masks_na[3630:4537]\n",
    "# print(type(train_half))"
   ]
  },
  {
   "cell_type": "code",
   "execution_count": 15,
   "metadata": {},
   "outputs": [
    {
     "data": {
      "text/plain": [
       "((1285, 128, 128), (907,))"
      ]
     },
     "execution_count": 15,
     "metadata": {},
     "output_type": "execute_result"
    }
   ],
   "source": [
    "tumor.shape,masks_th.shape"
   ]
  },
  {
   "cell_type": "code",
   "execution_count": 16,
   "metadata": {},
   "outputs": [
    {
     "name": "stdout",
     "output_type": "stream",
     "text": [
      "(1028, 128, 128)\n",
      "(257, 128, 128)\n",
      "<class 'numpy.ndarray'>\n"
     ]
    }
   ],
   "source": [
    "# np.random.shuffle(tumor)\n",
    "test,valid = tumor[:1028],tumor[1028:]\n",
    "# masks_ta,masks_va = masks_a[:1033],masks_a[1033:]\n",
    "masks_ta,masks_va = masks_a[:1028],masks_a[1028:]\n",
    "print(test.shape)\n",
    "print(valid.shape)\n",
    "valid = valid\n",
    "test = test\n",
    "print(type(test))"
   ]
  },
  {
   "cell_type": "code",
   "execution_count": 21,
   "metadata": {},
   "outputs": [
    {
     "data": {
      "text/plain": [
       "<matplotlib.image.AxesImage at 0x23b0be52da0>"
      ]
     },
     "execution_count": 21,
     "metadata": {},
     "output_type": "execute_result"
    },
    {
     "data": {
      "image/png": "[encoded data removed]",
      "text/plain": [
       "<Figure size 432x288 with 1 Axes>"
      ]
     },
     "metadata": {
      "needs_background": "light"
     },
     "output_type": "display_data"
    }
   ],
   "source": [
    "image3 = test[0]\n",
    "plt.imshow(image3[:,:], cmap = 'gray')"
   ]
  },
  {
   "cell_type": "code",
   "execution_count": 26,
   "metadata": {},
   "outputs": [],
   "source": [
    "test_data1 = np.concatenate((train_half,test),axis = 0)\n",
    "masks_ta1 = np.concatenate((masks_th,masks_ta),axis=0)"
   ]
  },
  {
   "cell_type": "code",
   "execution_count": 34,
   "metadata": {},
   "outputs": [
    {
     "name": "stdout",
     "output_type": "stream",
     "text": [
      "1935\n"
     ]
    }
   ],
   "source": [
    "# np.save('test_masks',masks_ta1)\n",
    "# train.dtype\n",
    "print(len(testing))"
   ]
  },
  {
   "cell_type": "code",
   "execution_count": 28,
   "metadata": {},
   "outputs": [],
   "source": [
    "m3 = np.max(test_data1)\n",
    "mi3 = np.min(test_data1)\n",
    "testing = (test_data1 - mi3) / (m3 - mi3)"
   ]
  },
  {
   "cell_type": "code",
   "execution_count": 29,
   "metadata": {},
   "outputs": [],
   "source": [
    "m = np.max(train)\n",
    "mi = np.min(train)\n",
    "train = (train - mi) / (m - mi)"
   ]
  },
  {
   "cell_type": "code",
   "execution_count": 30,
   "metadata": {},
   "outputs": [],
   "source": [
    "m1 = np.max(test)\n",
    "mi1 = np.min(test)\n",
    "test = (test - mi1) / (m1 - mi1)"
   ]
  },
  {
   "cell_type": "code",
   "execution_count": 31,
   "metadata": {},
   "outputs": [],
   "source": [
    "m2 = np.max(valid)\n",
    "mi2 = np.min(valid)\n",
    "valid = (valid - mi2) / (m2 - mi2)"
   ]
  },
  {
   "cell_type": "code",
   "execution_count": 32,
   "metadata": {},
   "outputs": [
    {
     "data": {
      "text/plain": [
       "(0.0, 1.0)"
      ]
     },
     "execution_count": 32,
     "metadata": {},
     "output_type": "execute_result"
    }
   ],
   "source": [
    "np.min(valid), np.max(valid)"
   ]
  },
  {
   "cell_type": "code",
   "execution_count": 33,
   "metadata": {},
   "outputs": [
    {
     "data": {
      "text/plain": [
       "((1935,), (3630,), (257,))"
      ]
     },
     "execution_count": 33,
     "metadata": {},
     "output_type": "execute_result"
    }
   ],
   "source": [
    "masks_ta1.shape,masks_t.shape,masks_va.shape"
   ]
  },
  {
   "cell_type": "code",
   "execution_count": 35,
   "metadata": {},
   "outputs": [],
   "source": [
    "train_data = np.reshape(train, (3630, 128, 128, 1))\n",
    "test_data = np.reshape(test,(1028, 128, 128, 1))\n",
    "valid_data = np.reshape(valid,(257,128,128,1))\n",
    "testing = np.reshape(testing,(1935,128,128,1))"
   ]
  },
  {
   "cell_type": "code",
   "execution_count": 37,
   "metadata": {},
   "outputs": [
    {
     "name": "stdout",
     "output_type": "stream",
     "text": [
      "(3630, 128, 128, 1) (1935, 128, 128, 1) (257, 128, 128, 1) (1028, 128, 128, 1)\n"
     ]
    }
   ],
   "source": [
    "print (train_data.shape, testing.shape,valid_data.shape,test_data.shape)"
   ]
  },
  {
   "cell_type": "code",
   "execution_count": 39,
   "metadata": {},
   "outputs": [],
   "source": [
    "# np.save('train_masks',masks_t)"
   ]
  },
  {
   "cell_type": "code",
   "execution_count": 40,
   "metadata": {},
   "outputs": [],
   "source": [
    "# np.save('test_masks',masks_ta)"
   ]
  },
  {
   "cell_type": "code",
   "execution_count": 41,
   "metadata": {},
   "outputs": [],
   "source": [
    "# np.save('valid_masks',masks_va)"
   ]
  },
  {
   "cell_type": "code",
   "execution_count": 38,
   "metadata": {},
   "outputs": [],
   "source": [
    "np.save('ADC_test_data.npy',testing)"
   ]
  },
  {
   "cell_type": "code",
   "execution_count": 39,
   "metadata": {},
   "outputs": [],
   "source": [
    "np.save('ADC_train_data.npy', train_data)"
   ]
  },
  {
   "cell_type": "code",
   "execution_count": 40,
   "metadata": {},
   "outputs": [],
   "source": [
    "np.save('ADC_test_datasingle.npy', test_data)"
   ]
  },
  {
   "cell_type": "code",
   "execution_count": 41,
   "metadata": {},
   "outputs": [],
   "source": [
    "np.save('ADC_valid_data.npy', valid_data)"
   ]
  },
  {
   "cell_type": "code",
   "execution_count": null,
   "metadata": {},
   "outputs": [],
   "source": []
  }
 ],
 "metadata": {
  "hide_input": false,
  "kernelspec": {
   "display_name": "Python 3",
   "language": "python",
   "name": "python3"
  },
  "language_info": {
   "codemirror_mode": {
    "name": "ipython",
    "version": 3
   },
   "file_extension": ".py",
   "mimetype": "text/x-python",
   "name": "python",
   "nbconvert_exporter": "python",
   "pygments_lexer": "ipython3",
   "version": "3.8.3"
  },
  "latex_envs": {
   "LaTeX_envs_menu_present": true,
   "autoclose": false,
   "autocomplete": true,
   "bibliofile": "biblio.bib",
   "cite_by": "apalike",
   "current_citInitial": 1,
   "eqLabelWithNumbers": true,
   "eqNumInitial": 1,
   "hotkeys": {
    "equation": "Ctrl-E",
    "itemize": "Ctrl-I"
   },
   "labels_anchors": false,
   "latex_user_defs": false,
   "report_style_numbering": false,
   "user_envs_cfg": false
  },
  "toc": {
   "base_numbering": 1,
   "nav_menu": {},
   "number_sections": true,
   "sideBar": true,
   "skip_h1_title": false,
   "title_cell": "Table of Contents",
   "title_sidebar": "Contents",
   "toc_cell": false,
   "toc_position": {},
   "toc_section_display": true,
   "toc_window_display": false
  },
  "varInspector": {
   "cols": {
    "lenName": 16,
    "lenType": 16,
    "lenVar": 40
   },
   "kernels_config": {
    "python": {
     "delete_cmd_postfix": "",
     "delete_cmd_prefix": "del ",
     "library": "var_list.py",
     "varRefreshCmd": "print(var_dic_list())"
    },
    "r": {
     "delete_cmd_postfix": ") ",
     "delete_cmd_prefix": "rm(",
     "library": "var_list.r",
     "varRefreshCmd": "cat(var_dic_list()) "
    }
   },
   "types_to_exclude": [
    "module",
    "function",
    "builtin_function_or_method",
    "instance",
    "_Feature"
   ],
   "window_display": false
  }
 },
 "nbformat": 4,
 "nbformat_minor": 4
}
